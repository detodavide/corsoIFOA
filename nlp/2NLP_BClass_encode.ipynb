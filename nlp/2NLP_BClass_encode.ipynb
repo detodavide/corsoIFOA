{
 "cells": [
  {
   "cell_type": "code",
   "execution_count": 2,
   "metadata": {},
   "outputs": [],
   "source": [
    "import numpy as np\n",
    "import pandas as pd\n",
    "import re\n",
    "from sklearn.datasets import load_files\n",
    "from sklearn.feature_extraction.text import CountVectorizer\n",
    "from sklearn.feature_extraction.text import TfidfTransformer\n",
    "\n",
    "import warnings\n",
    "warnings.filterwarnings('ignore')"
   ]
  },
  {
   "cell_type": "code",
   "execution_count": 3,
   "metadata": {},
   "outputs": [],
   "source": [
    "movie_data = load_files(r\"C:\\Users\\ifoa\\Desktop\\txt_sentoken\")\n",
    "X_, y = movie_data.data, movie_data.target"
   ]
  },
  {
   "cell_type": "code",
   "execution_count": 4,
   "metadata": {},
   "outputs": [
    {
     "name": "stdout",
     "output_type": "stream",
     "text": [
      "[[  0 999]\n",
      " [  1 414]]\n"
     ]
    }
   ],
   "source": [
    "unique, counts = np.unique(y, return_counts=True)\n",
    "\n",
    "print(np.asarray((unique, counts)).T)"
   ]
  },
  {
   "cell_type": "code",
   "execution_count": null,
   "metadata": {},
   "outputs": [],
   "source": []
  },
  {
   "cell_type": "code",
   "execution_count": 40,
   "metadata": {},
   "outputs": [],
   "source": [
    "# patterns = [r\"b'\",\n",
    "#             r'b\"',\n",
    "#             r\"b\\\\\",\n",
    "#             r\"\\\\n\",\n",
    "#             r'\\\\',\n",
    "#             r'\"',\n",
    "#             r\",\",\n",
    "#             r\"'\",\n",
    "#             r\"\\?\",\n",
    "#             r\"\\!\",\n",
    "#             r'\\.',\n",
    "#             r\"\\*\",\n",
    "#             r\":\",\n",
    "#             r\"-\",\n",
    "#             r\"[()]\",\n",
    "#             r\"\\)\",\n",
    "#             r\"/\",\n",
    "#             r\"[0-9]+\"\n",
    "#             r\"[^a-zA-z\\s]+\",\n",
    "#             r\"[0-9]\",\n",
    "#             r\"`\"\n",
    "#             ]\n",
    "\n",
    "# patterns = [\n",
    "#             r\"b'\",\n",
    "#             r'b\"',\n",
    "#             r\"b\\\\\",\n",
    "#             r\"\\\\n\",\n",
    "#             r\"[^a-zA-Z\\s]\"\n",
    "#             ]\n",
    "# patterns = [r\"-\"]\n",
    "patterns = [\n",
    "            r\"[\\n]\",\n",
    "            r'[^\\w\\s]', \n",
    "            r'[!@#$%<.*?>]+',#Remove simbols Remove HTML tags/markups\n",
    "            r\"[0-9]\"\n",
    "            ] \n",
    "rem_spaces = r\" +\"\n",
    "\n",
    "X =[]\n",
    "\n",
    "for doc in X_:\n",
    "    docx = doc.decode('utf-8')\n",
    "    for pattern in patterns:\n",
    "        matches = re.findall(pattern, docx)\n",
    "        if matches:\n",
    "            for match in matches:\n",
    "                docx = docx.replace(match, '')\n",
    "        space_match = re.findall(rem_spaces, docx)\n",
    "        for sm in space_match:\n",
    "            docx = docx.replace(sm, ' ')\n",
    "    docx = docx.strip()\n",
    "    X.append(docx)\n",
    "    "
   ]
  },
  {
   "cell_type": "code",
   "execution_count": 41,
   "metadata": {},
   "outputs": [
    {
     "data": {
      "text/plain": [
       "'lisa cholodenkos high art is an intelligent quiet drama its strongest quality aside from the topnotch central performances is the perceptive way in which the film also written by cholodenko observes its characters they are all flawed people some more troubled than others but they are not judged judging the characters in this picture would be a creative misstep on the filmmakers parts because no one no matter how bad off they are deserve to be negatively judged if they are involved in some serious problems that they cannot break free of syd radha mitchell a yearold woman living with her longtime boyfriend james gabriel mann has recently been awarded an ideal job at the highprofile photography magazine frame she very much enjoys where her career is headed but is often not taken very seriously by her managers who are always giving her petty jobs to do when she knows she could be doing more important things one night while taking a bath syd notices a leak coming from the apartment above hers so when she goes up there to inform them of it she meets lucy beliner ally sheedy a thin wornout and unhappy woman who lives with her drugaddicted german girlfriend greta patricia clarkson a pathetic former actress who is usually so outofit that she often is in and out of conciousness syd quickly strikes up a conversation with lucy and discovers that she used to be an acclaimed photographer ten years before lucy claims she doesnt want to get back into the profession but syd manages to convince the frame editors to do a piece on her work all the while syd begins to grow deep feelings for lucy even though she has never previously been attracted to a woman and lucy starts a battle with her personal demons high art is such an effective motion picture because it is never sugercoated or idealized but instead an honest and convincing portrait of a handful of unhappy people whose lives are going nowhere while syds luck begins to rise the film in no way is about lesbianism but about love which was a refreshing change of pace from the usual stereotypical portraits of homosexuality as lucy and syd grow closer and closer together we really do believe that they are falling in love with each other even if the relationship might be doomed with this picture ally sheedys star has risen once again thanks to her touching nearly flawless portrtayal of lucy a woman who in the course of a decade has found her life consumed almost entirely by drugs which has taken away her onceblossoming career her characted really is tragic and one particular scene involving lucy and her mother in which lucy admits to her that she has a drug problem and her mother matteroffactly responds by saying she cant help her is heartbreaking although not autobiographical sheedy has had drug problems in her past and i suspect she brought that knowledge of already being in lucys footsteps to her role also very good is radha mitchell as syd who previously starred in the slight australian comedy love and other catastrophes wh caught me by surprise with her performance easily being able to pass as christina riccis older sister mitchell obtains the same natural charisma that has made ricci so popular recently as accurate as almost every detail is in high art i wish the relationship had been more tightly written involving syd and james who played by gabriel mann is left with a throwaway role by the time he finds out about syd and lucy he disappears from the film and i wish there had been another scene where they confronted each other this is a very minor fault however in a film that is full of riches although many of the characters are stuck in a hopeless pit of despair syd and lucy are intelligent people who recognize their problems the character of dominique anh duong the frame editor who decides to give syd a chance with her ideas was also written to be far more mature than expected and the one sex scene in the film was beautifully and originally done for once it did not invlove steaminess or violent sexual activity or gratuitous nudity but focused on the actual characters who love each other and their insecurities involved in making the decision to actually have sex high art which won the screenwriting award at the sundance film festival marks the superior feature film debut of cholodenko as well as sheedys strongest and best role to date'"
      ]
     },
     "execution_count": 41,
     "metadata": {},
     "output_type": "execute_result"
    }
   ],
   "source": [
    "X[0]"
   ]
  },
  {
   "cell_type": "code",
   "execution_count": 42,
   "metadata": {},
   "outputs": [],
   "source": [
    "from sklearn.feature_extraction.text import CountVectorizer\n",
    "from sklearn.feature_extraction.text import TfidfTransformer\n",
    "\n",
    "vectorizer = CountVectorizer(max_features=1500, min_df=5, max_df=0.7)\n",
    "tfidfconverter = TfidfTransformer()"
   ]
  },
  {
   "cell_type": "code",
   "execution_count": 48,
   "metadata": {},
   "outputs": [],
   "source": [
    "from sklearn.model_selection import train_test_split\n",
    "\n",
    "X_train, X_test, y_train, y_test = train_test_split(X, y, \n",
    "                                                    test_size=0.25, \n",
    "                                                    random_state=667\n",
    "                                                    )"
   ]
  },
  {
   "cell_type": "code",
   "execution_count": 49,
   "metadata": {},
   "outputs": [
    {
     "name": "stdout",
     "output_type": "stream",
     "text": [
      "(1059, 1500) (1059,)\n"
     ]
    }
   ],
   "source": [
    "X_train_vect = vectorizer.fit_transform(X_train).toarray()\n",
    "X_train = tfidfconverter.fit_transform(X_train_vect).toarray()           # applico la trasformazione TF-IDF\n",
    "print(X_train.shape, y_train.shape)"
   ]
  },
  {
   "cell_type": "code",
   "execution_count": 50,
   "metadata": {},
   "outputs": [
    {
     "name": "stdout",
     "output_type": "stream",
     "text": [
      "(354, 1500) (354,)\n"
     ]
    }
   ],
   "source": [
    "X_test_vect = vectorizer.transform(X_test).toarray()\n",
    "X_test = tfidfconverter.transform(X_test_vect).toarray()\n",
    "print(X_test.shape, y_test.shape)"
   ]
  },
  {
   "cell_type": "code",
   "execution_count": 51,
   "metadata": {},
   "outputs": [
    {
     "name": "stdout",
     "output_type": "stream",
     "text": [
      "              precision    recall  f1-score   support\n",
      "\n",
      "           0       0.75      0.99      0.85       248\n",
      "           1       0.92      0.23      0.36       106\n",
      "\n",
      "    accuracy                           0.76       354\n",
      "   macro avg       0.84      0.61      0.61       354\n",
      "weighted avg       0.80      0.76      0.71       354\n",
      "\n",
      "0.6089015151515151\n"
     ]
    }
   ],
   "source": [
    "from sklearn.metrics import classification_report, f1_score, accuracy_score, confusion_matrix\n",
    "from sklearn.naive_bayes import MultinomialNB\n",
    "from sklearn.metrics import f1_score\n",
    "\n",
    "classifier = MultinomialNB(alpha=.01)\n",
    "classifier.fit(X_train,y_train)\n",
    "y_pred = classifier.predict(X_test)\n",
    "y_prob = classifier.predict_proba(X_test)[:,1]\n",
    "\n",
    "print(classification_report(y_test,y_pred))\n",
    "print(f1_score(y_test, y_pred, average='macro'))"
   ]
  },
  {
   "cell_type": "code",
   "execution_count": 52,
   "metadata": {},
   "outputs": [
    {
     "data": {
      "text/plain": [
       "Text(145.72222222222223, 0.5, 'Actual')"
      ]
     },
     "execution_count": 52,
     "metadata": {},
     "output_type": "execute_result"
    },
    {
     "data": {
      "image/png": "[encoded data removed]",
      "text/plain": [
       "<Figure size 1400x1000 with 2 Axes>"
      ]
     },
     "metadata": {},
     "output_type": "display_data"
    }
   ],
   "source": [
    "import seaborn as sns\n",
    "import matplotlib.pyplot as plt\n",
    "from sklearn.metrics import confusion_matrix \n",
    "\n",
    "cm = confusion_matrix(y_test, y_pred)\n",
    "plt.figure(figsize = (14,10))\n",
    "sns.heatmap(cm,cmap= \"Blues\", \n",
    "            linecolor = 'black', \n",
    "            linewidth = 1, \n",
    "            annot = True, \n",
    "            fmt='')\n",
    "\n",
    "plt.xlabel(\"Predicted\")\n",
    "plt.ylabel(\"Actual\")"
   ]
  },
  {
   "cell_type": "code",
   "execution_count": null,
   "metadata": {},
   "outputs": [],
   "source": []
  },
  {
   "cell_type": "code",
   "execution_count": null,
   "metadata": {},
   "outputs": [],
   "source": []
  }
 ],
 "metadata": {
  "kernelspec": {
   "display_name": "Python 3",
   "language": "python",
   "name": "python3"
  },
  "language_info": {
   "codemirror_mode": {
    "name": "ipython",
    "version": 3
   },
   "file_extension": ".py",
   "mimetype": "text/x-python",
   "name": "python",
   "nbconvert_exporter": "python",
   "pygments_lexer": "ipython3",
   "version": "3.10.9"
  },
  "orig_nbformat": 4
 },
 "nbformat": 4,
 "nbformat_minor": 2
}
